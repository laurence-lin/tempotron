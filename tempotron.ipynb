{
  "nbformat": 4,
  "nbformat_minor": 0,
  "metadata": {
    "colab": {
      "name": "Python_coding.ipynb",
      "provenance": [],
      "collapsed_sections": [],
      "authorship_tag": "ABX9TyNn1BMlAhQ9eI/vaiC5RFGH",
      "include_colab_link": true
    },
    "kernelspec": {
      "name": "python3",
      "display_name": "Python 3"
    }
  },
  "cells": [
    {
      "cell_type": "markdown",
      "metadata": {
        "id": "view-in-github",
        "colab_type": "text"
      },
      "source": [
        "<a href=\"https://colab.research.google.com/github/laurence-lin/tempotron/blob/master/tempotron.ipynb\" target=\"_parent\"><img src=\"https://colab.research.google.com/assets/colab-badge.svg\" alt=\"Open In Colab\"/></a>"
      ]
    },
    {
      "cell_type": "code",
      "metadata": {
        "id": "jODgGqlTlQPy",
        "outputId": "c390e7ef-1dee-46cc-c119-3afb908218f6",
        "colab": {
          "base_uri": "https://localhost:8080/",
          "height": 33
        }
      },
      "source": [
        "import numpy as np\n",
        "import pandas as pd\n",
        "import csv\n",
        "import os\n",
        "import time\n",
        "\n",
        "\n",
        "import matplotlib.pyplot as plt\n",
        "import sklearn\n",
        "import tensorflow as tf\n",
        "\n",
        "print('Library imported.')\n",
        "\n"
      ],
      "execution_count": 1,
      "outputs": [
        {
          "output_type": "stream",
          "text": [
            "Library imported.\n"
          ],
          "name": "stdout"
        }
      ]
    },
    {
      "cell_type": "code",
      "metadata": {
        "id": "O-pz7dpbnCzP"
      },
      "source": [
        "\n",
        "# Input value encoding: Gaussian receptive field\n",
        "gauss_neuron = 12  # each input value is encoded by 12 gaussian neurons\n",
        "center = np.ones((gauss_neuron, 1))\n",
        "width = 1/15\n",
        "\n",
        "# let the value range equal in each feautres, thus gaussian encoding center for each feature is the same\n",
        "for i in range(len(center)): # let X_max=1, x_min=0. Center for each feature=i/(n - 1)\n",
        "  center[i] = (2*i-3)/20  # Center of gaussian shift from left to right\n",
        "\n",
        "x = np.arange(0, 1, 0.0001) # input variable resolution in gaussian receptive field\n",
        "\n",
        "num_features = 4\n",
        "gauss_recpt_field = np.zeros((gauss_neuron, len(x))) # gaussian receptive field for input stimulate response\n",
        "spike_time = np.zeros((gauss_neuron, num_features)) # 48 gaussian encoding neurons for 4 input features\n",
        "\n",
        "# Define gaussian receptive field for input variables entries\n",
        "for i in range(gauss_neuron):\n",
        "  gauss_recpt_field[i, :] = np.exp( -(x-center[i])**2/(2*width*width) ) # different shift for each gaussian function\n",
        "\n",
        "\n",
        "def gauss_response(inputs):\n",
        "  # input: shape [1, features] \n",
        "  # output: shape [gaussian neurons*features] spiking time\n",
        "  \n",
        "  for i in range(num_features):\n",
        "    # for each input[i]\n",
        "    for j in range(gauss_neuron):\n",
        "      spike_time[j, i] = gauss_recpt_field[j, inputs[i]] # input feature enter the gaussian entry, recieve response\n",
        "\n",
        "  spikes = []\n",
        "  for i in range(spike_time.shape[1]):\n",
        "    spikes.extend(spike_time[:, i])\n",
        "\n",
        "  return np.array(spikes)\n",
        "\n",
        "\n"
      ],
      "execution_count": 9,
      "outputs": []
    },
    {
      "cell_type": "code",
      "metadata": {
        "id": "Jd9M-r52N1-N",
        "outputId": "69ef46c2-b000-4c33-ebbf-a00661212dfa",
        "colab": {
          "base_uri": "https://localhost:8080/",
          "height": 117
        }
      },
      "source": [
        "from sklearn.preprocessing import LabelEncoder\n",
        "\n",
        "df = pd.read_csv('https://archive.ics.uci.edu/ml/machine-learning-databases/iris/iris.data', header = None)\n",
        "\n",
        "encoder = LabelEncoder()\n",
        "df.iloc[:, 4] = encoder.fit_transform(df.iloc[:, 4])\n",
        "print(df.head())\n",
        "\n",
        "from sklearn.preprocessing import MinMaxScaler\n",
        "from sklearn.model_selection import train_test_split\n",
        "from sklearn.metrics import accuracy_score\n",
        "\n",
        "# shuffle data\n",
        "df = df.sample(frac=1).reset_index(drop = True)\n",
        "print(df.head())\n",
        "\n",
        "X = df.iloc[:, 0:4]\n",
        "y = df.iloc[:, -1]\n",
        "\n",
        "gauss_neurons = gauss_neuron*num_features\n",
        "\n",
        "# Normalization\n",
        "scaler = MinMaxScaler()\n",
        "X = scaler.fit_transform(X)\n",
        "\n",
        "# There are 10000 entries in each gaussian function\n",
        "X = (X*10000).astype(int) # meet the index of gaussian receptive field, drop the fourth decimal\n",
        "X[X == 10000] = 9999 # convert all input value indexing to gaussian matrix entry\n",
        "input_spike = np.zeros((X.shape[0], gauss_neurons)) # spike time in [0, 1]\n",
        "\n",
        "for i in range(X.shape[0]):\n",
        "  input_spike[i, :] = gauss_response(X[i, :])\n",
        "\n",
        "input_spike[input_spike < 0.1] = 0  # set activate value < 0.1 to zero\n",
        "input_spike = np.around(100*(1 - input_spike)) # convert actiate value to 0~100 timing, round the decimals\n",
        "#Adjust t = 0 firing to t = 1\n",
        "input_spike[input_spike == 0] = 1\n",
        "\n",
        "\n",
        "x_train, x_valid, y_train, y_valid = train_test_split(input_spike, y, test_size = 0.2)"
      ],
      "execution_count": 3,
      "outputs": [
        {
          "output_type": "stream",
          "text": [
            "     0    1    2    3  4\n",
            "0  5.1  3.5  1.4  0.2  0\n",
            "1  4.9  3.0  1.4  0.2  0\n",
            "2  4.7  3.2  1.3  0.2  0\n",
            "3  4.6  3.1  1.5  0.2  0\n",
            "4  5.0  3.6  1.4  0.2  0\n"
          ],
          "name": "stdout"
        }
      ]
    },
    {
      "cell_type": "code",
      "metadata": {
        "id": "h6YBew-OZC4r",
        "outputId": "614a1327-a46c-4242-ea28-724c21aa9bfa",
        "colab": {
          "base_uri": "https://localhost:8080/",
          "height": 371
        }
      },
      "source": [
        "# Start training\n",
        "\n",
        "def heavyside(t, t_i):\n",
        "  if (t - t_i) >= 0:\n",
        "    return 1\n",
        "  elif (t - t_i) < 0:\n",
        "    return 0\n",
        "\n",
        "def K_res(t, t_i):\n",
        "  time = np.arange(0, 100, 1)\n",
        "  tou_m = 15\n",
        "  tou_s = tou_m/4\n",
        "  V_0 = 1/( (np.exp(-(time)/tou_m) - np.exp(-(time)/tou_s)).max() ) #normalization factor: divide the K() response by maximum value\n",
        "  response = V_0*( np.exp(-(time)/tou_m) - np.exp(-(time).tou_s) )*heavyside(t, t_i)\n",
        "  return response\n",
        "\n",
        "\n",
        "iterations = 50\n",
        "num_class = 3\n",
        "V = np.zeros((num_class, 100)) # potential of each output neuron\n",
        "V_rest = 0\n",
        "weight = np.random.random((gauss_neurons, num_class)) # connections btw input neuron and output neuron(here use single synaptic for simplicity)\n",
        "threshold = 1 # set threshold: try and error\n",
        "T = 100    # time encoding window\n",
        "firing_time = np.zeros((1, gauss_neurons)) # time-to-first-spike for all gaussian neurons\n",
        "Response = np.zeros((1, gauss_neurons))  # K(t-t_i) response for each gaussian neurons\n",
        "lr = 0.005\n",
        "tou_m = 15\n",
        "time = np.arange(1, T+1)\n",
        "accuracy = np.zeros((1, iterations))\n",
        "\n",
        "def train():  \n",
        "\n",
        "   for iterate in range(iterations):\n",
        "\n",
        "      # Check the accuracy after training each classifier\n",
        "      correct = 0 \n",
        "      val_predict = np.zeros((y_valid.shape))\n",
        "      for valid_sample in range(y_valid.shape[0]):\n",
        "        t_max = T*np.ones((1, num_class)) # default firing time: all neuron's maximum firing time at 100ms\n",
        "        max_state = np.zeros((1, num_class)) # max potential state of each output neuron\n",
        "        # Go through a time window, observe the firing history\n",
        "        for t in range(T):\n",
        "          for neuron in range(gauss_neurons):\n",
        "            Response[neuron] = K_res(t, y_valid[valid_sample, neuron])\n",
        "\n",
        "          #calculate PSP for output neuron \n",
        "          for out_id in range(num_class):\n",
        "            V[out_id, t] = Response*weight[:, out_id] + V_rest\n",
        "\n",
        "        # Find the firing timing t_max\n",
        "        for out_id in range(num_class):\n",
        "          fire_time = np.where((V > threshold)[out_id, :])[0]\n",
        "          if len(fire_time) > 0: # set firing time between 1 to 100\n",
        "            max_state[0, out_id] = fire_time[0] + 1\n",
        "            t_max[out_id] = fire_time[0] + 1\n",
        "          else:\n",
        "            max_state[0, out_id] = T\n",
        "          \n",
        "          if max_state[0, out_id] < T: # if output neuron fires\n",
        "            V[out_id, t_max[out_id]:] = V[out_id, t_max[out_id]]*np.exp((time[t_max[out_id]:]-time[t_max[out_id]])/tou_m)\n",
        "        # We only need t_max for prediction?\n",
        "        pred_class = np.argmin(t_max)\n",
        "        val_predict[valid_id] = pred_class\n",
        "\n",
        "      acc = accuracy_score(y_valid, val_predict)\n",
        "      print('Validation accuaracy at iteration {}: {}'.format(str(iterate+1), acc))\n",
        "\n",
        "      # Training\n",
        "      for sample in range(x_train.shape[0]):\n",
        "        t_max = 100*np.ones((1, num_class))\n",
        "        max_state = np.zeros((1, num_class))\n",
        "        for t in range(T):\n",
        "          for neuron in range(gauss_neurons):\n",
        "            Response[neuron] = K_res(t, x_train[sample, neuron])\n",
        "          for out_id in range(num_class):\n",
        "            V[out_id, t] = Response*weight[:, out_id] + V_rest\n",
        "\n",
        "        # Find the firing timing t_max\n",
        "        for out_id in range(num_class):\n",
        "          fire_time = np.where((V > threshold)[out_id, :])[0]\n",
        "          if len(fire_time) > 0: # set firing time between 1 to 100\n",
        "            max_state[0, out_id] = fire_time[0] + 1\n",
        "            t_max[out_id] = fire_time[0] + 1\n",
        "          else:\n",
        "            max_state[0, out_id] = T\n",
        "          \n",
        "          if max_state[0, out_id] < T: # if output neuron fires\n",
        "            V[out_id, t_max[out_id]:] = V[out_id, t_max[out_id]]*np.exp((time[t_max[out_id]:]-time[t_max[out_id]])/tou_m)\n",
        "\n",
        "        pred_class = np.argmin(t_max)\n",
        "        # Modify weight when error occurs: stochastic learning\n",
        "        target = y_train[sample] # if target class != predict class, modify the weight\n",
        "        if pred_class != target:\n",
        "          for out_id in range(num_class):\n",
        "            if out_id == target:\n",
        "              if max_state[out_id] < threshold: # if the neuron supposed to fire did not fire\n",
        "                for neuron in range(gauss_neurons):\n",
        "                  if input_spike[sample, neuron] < t_max[out_id]: # for input neuron that contribute to the firing\n",
        "                    # enhance the weight connection to the output neuron corresponding to target class\n",
        "                    weight[neuron, out_id] += lr*K_res(t_max[out_id], input_spike[sample, out_id])\n",
        "\n",
        "            elif out_id != target:\n",
        "              if max_state[out_id] >= threshold: # if neuron shouldn't fired are erupted to fire\n",
        "                for neuron in range(gauss_neurons):\n",
        "                  if input_spike[sample, neuron] < t_max[out_id]:\n",
        "                    # for input neuron contribute to the spike, inhibit the firing\n",
        "                    weight[neuron, out_id] -= lr*K_res(t_max[out_id], input_spike[sample, out_id])\n",
        "\n",
        "        # Even if predict class is correct, if the output neuron other than target class is evoked,\n",
        "        # we should inhibit the firing of these neurons\n",
        "        elif pred_class == target:\n",
        "          for out_id in range(num_class):\n",
        "            if out_id != target:\n",
        "              if max_state[out_id] >= threshold:\n",
        "                for neuron in range(gauss_neurons):\n",
        "                  if input_spike[sample, neuron] < t_max[out_id]:\n",
        "                    weight[neuron, out_id] -= lr*K_res(t_max[out_id], input_spike[sample, out_id])\n",
        "\n",
        "      \n",
        "\n",
        "train()       \n",
        "\n",
        "\n",
        "\n",
        "\n"
      ],
      "execution_count": 17,
      "outputs": [
        {
          "output_type": "error",
          "ename": "ValueError",
          "evalue": "ignored",
          "traceback": [
            "\u001b[0;31m---------------------------------------------------------------------------\u001b[0m",
            "\u001b[0;31mValueError\u001b[0m                                Traceback (most recent call last)",
            "\u001b[0;32m<ipython-input-17-4cf4c22f35e1>\u001b[0m in \u001b[0;36m<module>\u001b[0;34m()\u001b[0m\n\u001b[1;32m    120\u001b[0m \u001b[0;34m\u001b[0m\u001b[0m\n\u001b[1;32m    121\u001b[0m \u001b[0;34m\u001b[0m\u001b[0m\n\u001b[0;32m--> 122\u001b[0;31m \u001b[0mtrain\u001b[0m\u001b[0;34m(\u001b[0m\u001b[0;34m)\u001b[0m\u001b[0;34m\u001b[0m\u001b[0;34m\u001b[0m\u001b[0m\n\u001b[0m\u001b[1;32m    123\u001b[0m \u001b[0;34m\u001b[0m\u001b[0m\n\u001b[1;32m    124\u001b[0m \u001b[0;34m\u001b[0m\u001b[0m\n",
            "\u001b[0;32m<ipython-input-17-4cf4c22f35e1>\u001b[0m in \u001b[0;36mtrain\u001b[0;34m()\u001b[0m\n\u001b[1;32m     43\u001b[0m         \u001b[0;32mfor\u001b[0m \u001b[0mt\u001b[0m \u001b[0;32min\u001b[0m \u001b[0mrange\u001b[0m\u001b[0;34m(\u001b[0m\u001b[0mT\u001b[0m\u001b[0;34m)\u001b[0m\u001b[0;34m:\u001b[0m\u001b[0;34m\u001b[0m\u001b[0;34m\u001b[0m\u001b[0m\n\u001b[1;32m     44\u001b[0m           \u001b[0;32mfor\u001b[0m \u001b[0mneuron\u001b[0m \u001b[0;32min\u001b[0m \u001b[0mrange\u001b[0m\u001b[0;34m(\u001b[0m\u001b[0mgauss_neurons\u001b[0m\u001b[0;34m)\u001b[0m\u001b[0;34m:\u001b[0m\u001b[0;34m\u001b[0m\u001b[0;34m\u001b[0m\u001b[0m\n\u001b[0;32m---> 45\u001b[0;31m             \u001b[0mResponse\u001b[0m\u001b[0;34m[\u001b[0m\u001b[0mneuron\u001b[0m\u001b[0;34m]\u001b[0m \u001b[0;34m=\u001b[0m \u001b[0mK_res\u001b[0m\u001b[0;34m(\u001b[0m\u001b[0mt\u001b[0m\u001b[0;34m,\u001b[0m \u001b[0my_valid\u001b[0m\u001b[0;34m[\u001b[0m\u001b[0mvalid_sample\u001b[0m\u001b[0;34m,\u001b[0m \u001b[0mneuron\u001b[0m\u001b[0;34m]\u001b[0m\u001b[0;34m)\u001b[0m\u001b[0;34m\u001b[0m\u001b[0;34m\u001b[0m\u001b[0m\n\u001b[0m\u001b[1;32m     46\u001b[0m \u001b[0;34m\u001b[0m\u001b[0m\n\u001b[1;32m     47\u001b[0m           \u001b[0;31m#calculate PSP for output neuron\u001b[0m\u001b[0;34m\u001b[0m\u001b[0;34m\u001b[0m\u001b[0;34m\u001b[0m\u001b[0m\n",
            "\u001b[0;32m/usr/local/lib/python3.6/dist-packages/pandas/core/series.py\u001b[0m in \u001b[0;36m__getitem__\u001b[0;34m(self, key)\u001b[0m\n\u001b[1;32m    906\u001b[0m             \u001b[0;32mreturn\u001b[0m \u001b[0mself\u001b[0m\u001b[0;34m.\u001b[0m\u001b[0m_get_values\u001b[0m\u001b[0;34m(\u001b[0m\u001b[0mkey\u001b[0m\u001b[0;34m)\u001b[0m\u001b[0;34m\u001b[0m\u001b[0;34m\u001b[0m\u001b[0m\n\u001b[1;32m    907\u001b[0m \u001b[0;34m\u001b[0m\u001b[0m\n\u001b[0;32m--> 908\u001b[0;31m         \u001b[0;32mreturn\u001b[0m \u001b[0mself\u001b[0m\u001b[0;34m.\u001b[0m\u001b[0m_get_with\u001b[0m\u001b[0;34m(\u001b[0m\u001b[0mkey\u001b[0m\u001b[0;34m)\u001b[0m\u001b[0;34m\u001b[0m\u001b[0;34m\u001b[0m\u001b[0m\n\u001b[0m\u001b[1;32m    909\u001b[0m \u001b[0;34m\u001b[0m\u001b[0m\n\u001b[1;32m    910\u001b[0m     \u001b[0;32mdef\u001b[0m \u001b[0m_get_with\u001b[0m\u001b[0;34m(\u001b[0m\u001b[0mself\u001b[0m\u001b[0;34m,\u001b[0m \u001b[0mkey\u001b[0m\u001b[0;34m)\u001b[0m\u001b[0;34m:\u001b[0m\u001b[0;34m\u001b[0m\u001b[0;34m\u001b[0m\u001b[0m\n",
            "\u001b[0;32m/usr/local/lib/python3.6/dist-packages/pandas/core/series.py\u001b[0m in \u001b[0;36m_get_with\u001b[0;34m(self, key)\u001b[0m\n\u001b[1;32m    921\u001b[0m             )\n\u001b[1;32m    922\u001b[0m         \u001b[0;32melif\u001b[0m \u001b[0misinstance\u001b[0m\u001b[0;34m(\u001b[0m\u001b[0mkey\u001b[0m\u001b[0;34m,\u001b[0m \u001b[0mtuple\u001b[0m\u001b[0;34m)\u001b[0m\u001b[0;34m:\u001b[0m\u001b[0;34m\u001b[0m\u001b[0;34m\u001b[0m\u001b[0m\n\u001b[0;32m--> 923\u001b[0;31m             \u001b[0;32mreturn\u001b[0m \u001b[0mself\u001b[0m\u001b[0;34m.\u001b[0m\u001b[0m_get_values_tuple\u001b[0m\u001b[0;34m(\u001b[0m\u001b[0mkey\u001b[0m\u001b[0;34m)\u001b[0m\u001b[0;34m\u001b[0m\u001b[0;34m\u001b[0m\u001b[0m\n\u001b[0m\u001b[1;32m    924\u001b[0m \u001b[0;34m\u001b[0m\u001b[0m\n\u001b[1;32m    925\u001b[0m         \u001b[0;32melif\u001b[0m \u001b[0;32mnot\u001b[0m \u001b[0mis_list_like\u001b[0m\u001b[0;34m(\u001b[0m\u001b[0mkey\u001b[0m\u001b[0;34m)\u001b[0m\u001b[0;34m:\u001b[0m\u001b[0;34m\u001b[0m\u001b[0;34m\u001b[0m\u001b[0m\n",
            "\u001b[0;32m/usr/local/lib/python3.6/dist-packages/pandas/core/series.py\u001b[0m in \u001b[0;36m_get_values_tuple\u001b[0;34m(self, key)\u001b[0m\n\u001b[1;32m    956\u001b[0m \u001b[0;34m\u001b[0m\u001b[0m\n\u001b[1;32m    957\u001b[0m         \u001b[0;32mif\u001b[0m \u001b[0;32mnot\u001b[0m \u001b[0misinstance\u001b[0m\u001b[0;34m(\u001b[0m\u001b[0mself\u001b[0m\u001b[0;34m.\u001b[0m\u001b[0mindex\u001b[0m\u001b[0;34m,\u001b[0m \u001b[0mMultiIndex\u001b[0m\u001b[0;34m)\u001b[0m\u001b[0;34m:\u001b[0m\u001b[0;34m\u001b[0m\u001b[0;34m\u001b[0m\u001b[0m\n\u001b[0;32m--> 958\u001b[0;31m             \u001b[0;32mraise\u001b[0m \u001b[0mValueError\u001b[0m\u001b[0;34m(\u001b[0m\u001b[0;34m\"Can only tuple-index with a MultiIndex\"\u001b[0m\u001b[0;34m)\u001b[0m\u001b[0;34m\u001b[0m\u001b[0;34m\u001b[0m\u001b[0m\n\u001b[0m\u001b[1;32m    959\u001b[0m \u001b[0;34m\u001b[0m\u001b[0m\n\u001b[1;32m    960\u001b[0m         \u001b[0;31m# If key is contained, would have returned by now\u001b[0m\u001b[0;34m\u001b[0m\u001b[0;34m\u001b[0m\u001b[0;34m\u001b[0m\u001b[0m\n",
            "\u001b[0;31mValueError\u001b[0m: Can only tuple-index with a MultiIndex"
          ]
        }
      ]
    },
    {
      "cell_type": "code",
      "metadata": {
        "id": "-mFdxdQHaJ85"
      },
      "source": [
        "\n",
        "\n"
      ],
      "execution_count": null,
      "outputs": []
    },
    {
      "cell_type": "code",
      "metadata": {
        "id": "PQgeqFSldyuB"
      },
      "source": [
        ""
      ],
      "execution_count": null,
      "outputs": []
    }
  ]
}